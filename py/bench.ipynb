{
 "cells": [
  {
   "cell_type": "code",
   "execution_count": 7,
   "metadata": {},
   "outputs": [],
   "source": [
    "import pyarrow as pa\n",
    "import pyarrow.parquet as pq\n",
    "from pgpq import ArrowToPostgresBinaryEncoder"
   ]
  },
  {
   "cell_type": "code",
   "execution_count": 9,
   "metadata": {},
   "outputs": [],
   "source": [
    "from pathlib import Path\n",
    "import requests\n",
    "\n",
    "file = Path(\".\").parent.parent / \"yellow_tripdata_2022-01.parquet\"\n",
    "with requests.get(\"https://d37ci6vzurychx.cloudfront.net/trip-data/yellow_tripdata_2022-01.parquet\", stream=True) as r:\n",
    "    r.raise_for_status()\n",
    "    with file.open(\"wb\") as f:\n",
    "        for chunk in r.iter_content(chunk_size=1024 * 1024):\n",
    "            f.write(chunk)"
   ]
  },
  {
   "cell_type": "code",
   "execution_count": 10,
   "metadata": {},
   "outputs": [],
   "source": [
    "arrow_table = pq.read_table(file)\n",
    "\n",
    "# use just the first row until https://github.com/apache/arrow-rs/issues/3646 gets resolved\n",
    "batch = pa.RecordBatch.from_pylist(next(iter(arrow_table.slice(0, 1).to_batches())).to_pylist())\n",
    "small_batches = [pa.RecordBatch.from_pylist(batch.to_pylist() * 100)]\n",
    "large_batches = [pa.RecordBatch.from_pylist(batch.to_pylist() * 10_000) for _ in range(10_000)]  # 10k batches of 10k rows = 100m"
   ]
  },
  {
   "cell_type": "code",
   "execution_count": 11,
   "metadata": {},
   "outputs": [],
   "source": [
    "def encode(batches) -> None:\n",
    "    encoder = ArrowToPostgresBinaryEncoder(arrow_table.schema)\n",
    "    encoder.write_header()\n",
    "    for batch in batches:\n",
    "        encoder.write_batch(batch)\n",
    "    encoder.finish()\n"
   ]
  },
  {
   "cell_type": "code",
   "execution_count": 12,
   "metadata": {},
   "outputs": [
    {
     "name": "stdout",
     "output_type": "stream",
     "text": [
      "91.5 µs ± 168 ns per loop (mean ± std. dev. of 7 runs, 10,000 loops each)\n"
     ]
    }
   ],
   "source": [
    "%timeit encode(small_batches)"
   ]
  },
  {
   "cell_type": "code",
   "execution_count": 13,
   "metadata": {},
   "outputs": [
    {
     "name": "stdout",
     "output_type": "stream",
     "text": [
      "36.39993381500244\n"
     ]
    }
   ],
   "source": [
    "from time import time\n",
    "\n",
    "start = time()\n",
    "encode(large_batches)\n",
    "end = time()\n",
    "print(f\"{end-start}\")"
   ]
  }
 ],
 "metadata": {
  "kernelspec": {
   "display_name": ".venv",
   "language": "python",
   "name": "python3"
  },
  "language_info": {
   "codemirror_mode": {
    "name": "ipython",
    "version": 3
   },
   "file_extension": ".py",
   "mimetype": "text/x-python",
   "name": "python",
   "nbconvert_exporter": "python",
   "pygments_lexer": "ipython3",
   "version": "3.10.9"
  },
  "vscode": {
   "interpreter": {
    "hash": "bfe9facd2a803056c7d94beaa559586e38ec822d68c7c39f2e0c752e8e6533cf"
   }
  }
 },
 "nbformat": 4,
 "nbformat_minor": 4
}
